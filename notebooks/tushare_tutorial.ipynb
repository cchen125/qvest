{
 "cells": [
  {
   "cell_type": "code",
   "execution_count": 1,
   "metadata": {},
   "outputs": [],
   "source": [
    "import tushare as ts"
   ]
  },
  {
   "cell_type": "code",
   "execution_count": 16,
   "metadata": {},
   "outputs": [],
   "source": [
    "pro = ts.pro_api(\"baf51ad222163a131a10f5a8f51dd84a020ea713bebf2c3d4ad447fb\")"
   ]
  },
  {
   "cell_type": "code",
   "execution_count": 9,
   "metadata": {},
   "outputs": [],
   "source": [
    "data = pro.stock_basic(list_status='L', fields='ts_code, symbol, name, area, industry, list_date')"
   ]
  },
  {
   "cell_type": "code",
   "execution_count": 21,
   "metadata": {},
   "outputs": [],
   "source": [
    "ts.set_token('baf51ad222163a131a10f5a8f51dd84a020ea713bebf2c3d4ad447fb')"
   ]
  },
  {
   "cell_type": "code",
   "execution_count": 18,
   "metadata": {},
   "outputs": [],
   "source": [
    "df = pro.adj_factor(ts_code='000001.SZ', trade_date='')"
   ]
  },
  {
   "cell_type": "code",
   "execution_count": 22,
   "metadata": {},
   "outputs": [],
   "source": [
    "df = ts.pro_bar(ts_code='000001.SZ', adj='qfq', start_date='20180101', end_date='20181011')"
   ]
  },
  {
   "cell_type": "code",
   "execution_count": 23,
   "metadata": {},
   "outputs": [
    {
     "data": {
      "text/html": [
       "<div>\n",
       "<style scoped>\n",
       "    .dataframe tbody tr th:only-of-type {\n",
       "        vertical-align: middle;\n",
       "    }\n",
       "\n",
       "    .dataframe tbody tr th {\n",
       "        vertical-align: top;\n",
       "    }\n",
       "\n",
       "    .dataframe thead th {\n",
       "        text-align: right;\n",
       "    }\n",
       "</style>\n",
       "<table border=\"1\" class=\"dataframe\">\n",
       "  <thead>\n",
       "    <tr style=\"text-align: right;\">\n",
       "      <th></th>\n",
       "      <th>ts_code</th>\n",
       "      <th>trade_date</th>\n",
       "      <th>open</th>\n",
       "      <th>high</th>\n",
       "      <th>low</th>\n",
       "      <th>close</th>\n",
       "      <th>pre_close</th>\n",
       "      <th>change</th>\n",
       "      <th>pct_chg</th>\n",
       "      <th>vol</th>\n",
       "      <th>amount</th>\n",
       "    </tr>\n",
       "  </thead>\n",
       "  <tbody>\n",
       "    <tr>\n",
       "      <th>0</th>\n",
       "      <td>000001.SZ</td>\n",
       "      <td>20181011</td>\n",
       "      <td>10.05</td>\n",
       "      <td>10.16</td>\n",
       "      <td>9.70</td>\n",
       "      <td>9.86</td>\n",
       "      <td>10.45</td>\n",
       "      <td>-0.59</td>\n",
       "      <td>-5.6459</td>\n",
       "      <td>1995143.83</td>\n",
       "      <td>1994186.611</td>\n",
       "    </tr>\n",
       "    <tr>\n",
       "      <th>1</th>\n",
       "      <td>000001.SZ</td>\n",
       "      <td>20181010</td>\n",
       "      <td>10.54</td>\n",
       "      <td>10.66</td>\n",
       "      <td>10.38</td>\n",
       "      <td>10.45</td>\n",
       "      <td>10.56</td>\n",
       "      <td>-0.11</td>\n",
       "      <td>-1.0417</td>\n",
       "      <td>995200.08</td>\n",
       "      <td>1045666.180</td>\n",
       "    </tr>\n",
       "    <tr>\n",
       "      <th>2</th>\n",
       "      <td>000001.SZ</td>\n",
       "      <td>20181009</td>\n",
       "      <td>10.46</td>\n",
       "      <td>10.70</td>\n",
       "      <td>10.39</td>\n",
       "      <td>10.56</td>\n",
       "      <td>10.45</td>\n",
       "      <td>0.11</td>\n",
       "      <td>1.0526</td>\n",
       "      <td>1064084.26</td>\n",
       "      <td>1117946.550</td>\n",
       "    </tr>\n",
       "    <tr>\n",
       "      <th>3</th>\n",
       "      <td>000001.SZ</td>\n",
       "      <td>20181008</td>\n",
       "      <td>10.70</td>\n",
       "      <td>10.79</td>\n",
       "      <td>10.45</td>\n",
       "      <td>10.45</td>\n",
       "      <td>11.05</td>\n",
       "      <td>-0.60</td>\n",
       "      <td>-5.4299</td>\n",
       "      <td>1686358.52</td>\n",
       "      <td>1793455.283</td>\n",
       "    </tr>\n",
       "    <tr>\n",
       "      <th>4</th>\n",
       "      <td>000001.SZ</td>\n",
       "      <td>20180928</td>\n",
       "      <td>10.78</td>\n",
       "      <td>11.27</td>\n",
       "      <td>10.78</td>\n",
       "      <td>11.05</td>\n",
       "      <td>10.74</td>\n",
       "      <td>0.31</td>\n",
       "      <td>2.8864</td>\n",
       "      <td>2110242.67</td>\n",
       "      <td>2331358.288</td>\n",
       "    </tr>\n",
       "  </tbody>\n",
       "</table>\n",
       "</div>"
      ],
      "text/plain": [
       "     ts_code trade_date   open   high    low  close  pre_close  change  \\\n",
       "0  000001.SZ   20181011  10.05  10.16   9.70   9.86      10.45   -0.59   \n",
       "1  000001.SZ   20181010  10.54  10.66  10.38  10.45      10.56   -0.11   \n",
       "2  000001.SZ   20181009  10.46  10.70  10.39  10.56      10.45    0.11   \n",
       "3  000001.SZ   20181008  10.70  10.79  10.45  10.45      11.05   -0.60   \n",
       "4  000001.SZ   20180928  10.78  11.27  10.78  11.05      10.74    0.31   \n",
       "\n",
       "   pct_chg         vol       amount  \n",
       "0  -5.6459  1995143.83  1994186.611  \n",
       "1  -1.0417   995200.08  1045666.180  \n",
       "2   1.0526  1064084.26  1117946.550  \n",
       "3  -5.4299  1686358.52  1793455.283  \n",
       "4   2.8864  2110242.67  2331358.288  "
      ]
     },
     "execution_count": 23,
     "metadata": {},
     "output_type": "execute_result"
    }
   ],
   "source": [
    "df.head()"
   ]
  },
  {
   "cell_type": "code",
   "execution_count": null,
   "metadata": {},
   "outputs": [],
   "source": []
  },
  {
   "cell_type": "code",
   "execution_count": null,
   "metadata": {},
   "outputs": [],
   "source": []
  },
  {
   "cell_type": "code",
   "execution_count": null,
   "metadata": {},
   "outputs": [],
   "source": []
  },
  {
   "cell_type": "code",
   "execution_count": null,
   "metadata": {},
   "outputs": [],
   "source": []
  },
  {
   "cell_type": "code",
   "execution_count": null,
   "metadata": {},
   "outputs": [],
   "source": []
  },
  {
   "cell_type": "code",
   "execution_count": null,
   "metadata": {},
   "outputs": [],
   "source": []
  }
 ],
 "metadata": {
  "anaconda-cloud": {},
  "kernelspec": {
   "display_name": "Python 3",
   "language": "python",
   "name": "python3"
  },
  "language_info": {
   "codemirror_mode": {
    "name": "ipython",
    "version": 3
   },
   "file_extension": ".py",
   "mimetype": "text/x-python",
   "name": "python",
   "nbconvert_exporter": "python",
   "pygments_lexer": "ipython3",
   "version": "3.7.3"
  }
 },
 "nbformat": 4,
 "nbformat_minor": 1
}
