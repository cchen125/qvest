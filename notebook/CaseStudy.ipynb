{
 "cells": [
  {
   "cell_type": "code",
   "execution_count": 30,
   "metadata": {
    "collapsed": false
   },
   "outputs": [],
   "source": [
    "%matplotlib inline\n",
    "import pylab\n",
    "import numpy as np\n",
    "import pandas as pd\n",
    "import tushare as ts\n",
    "import matplotlib.pyplot as plt\n",
    "import datetime as dt\n",
    "import seaborn as sns\n",
    "from pandas import DataFrame, Series\n",
    "from matplotlib import dates as mdates\n",
    "from matplotlib import ticker as mticker\n",
    "from matplotlib.finance import candlestick_ohlc\n",
    "from matplotlib.dates import DateFormatter, WeekdayLocator, DayLocator, MONDAY\n",
    "from matplotlib.dates import MonthLocator, MONTHLY\n"
   ]
  },
  {
   "cell_type": "markdown",
   "metadata": {},
   "source": [
    "# 配置信息"
   ]
  },
  {
   "cell_type": "code",
   "execution_count": 31,
   "metadata": {
    "collapsed": true
   },
   "outputs": [],
   "source": [
    "stock_id = '600030'\n",
    "start_dt = '2015-01-01'\n",
    "end_dt = '2018-06-30'"
   ]
  },
  {
   "cell_type": "code",
   "execution_count": 50,
   "metadata": {
    "collapsed": false
   },
   "outputs": [],
   "source": [
    "res = ts.get_hist_data(code=stock_id, start=start_dt, end=end_dt)"
   ]
  },
  {
   "cell_type": "code",
   "execution_count": 51,
   "metadata": {
    "collapsed": false
   },
   "outputs": [
    {
     "data": {
      "text/html": [
       "<div>\n",
       "<table border=\"1\" class=\"dataframe\">\n",
       "  <thead>\n",
       "    <tr style=\"text-align: right;\">\n",
       "      <th></th>\n",
       "      <th>open</th>\n",
       "      <th>high</th>\n",
       "      <th>close</th>\n",
       "      <th>low</th>\n",
       "      <th>volume</th>\n",
       "      <th>price_change</th>\n",
       "      <th>p_change</th>\n",
       "      <th>ma5</th>\n",
       "      <th>ma10</th>\n",
       "      <th>ma20</th>\n",
       "      <th>v_ma5</th>\n",
       "      <th>v_ma10</th>\n",
       "      <th>v_ma20</th>\n",
       "    </tr>\n",
       "    <tr>\n",
       "      <th>date</th>\n",
       "      <th></th>\n",
       "      <th></th>\n",
       "      <th></th>\n",
       "      <th></th>\n",
       "      <th></th>\n",
       "      <th></th>\n",
       "      <th></th>\n",
       "      <th></th>\n",
       "      <th></th>\n",
       "      <th></th>\n",
       "      <th></th>\n",
       "      <th></th>\n",
       "      <th></th>\n",
       "    </tr>\n",
       "  </thead>\n",
       "  <tbody>\n",
       "    <tr>\n",
       "      <th>2018-06-29</th>\n",
       "      <td>16.18</td>\n",
       "      <td>16.63</td>\n",
       "      <td>16.57</td>\n",
       "      <td>16.15</td>\n",
       "      <td>764343.50</td>\n",
       "      <td>0.41</td>\n",
       "      <td>2.54</td>\n",
       "      <td>16.262</td>\n",
       "      <td>16.689</td>\n",
       "      <td>17.698</td>\n",
       "      <td>714750.85</td>\n",
       "      <td>865295.61</td>\n",
       "      <td>759318.50</td>\n",
       "    </tr>\n",
       "    <tr>\n",
       "      <th>2018-06-28</th>\n",
       "      <td>15.96</td>\n",
       "      <td>16.62</td>\n",
       "      <td>16.17</td>\n",
       "      <td>15.96</td>\n",
       "      <td>867622.44</td>\n",
       "      <td>0.13</td>\n",
       "      <td>0.81</td>\n",
       "      <td>16.254</td>\n",
       "      <td>16.899</td>\n",
       "      <td>17.802</td>\n",
       "      <td>691815.84</td>\n",
       "      <td>836774.34</td>\n",
       "      <td>764707.70</td>\n",
       "    </tr>\n",
       "    <tr>\n",
       "      <th>2018-06-27</th>\n",
       "      <td>16.26</td>\n",
       "      <td>16.37</td>\n",
       "      <td>16.05</td>\n",
       "      <td>15.90</td>\n",
       "      <td>611452.75</td>\n",
       "      <td>-0.31</td>\n",
       "      <td>-1.90</td>\n",
       "      <td>16.276</td>\n",
       "      <td>17.137</td>\n",
       "      <td>17.900</td>\n",
       "      <td>761214.67</td>\n",
       "      <td>795622.12</td>\n",
       "      <td>773550.92</td>\n",
       "    </tr>\n",
       "    <tr>\n",
       "      <th>2018-06-26</th>\n",
       "      <td>15.98</td>\n",
       "      <td>16.43</td>\n",
       "      <td>16.36</td>\n",
       "      <td>15.90</td>\n",
       "      <td>689422.25</td>\n",
       "      <td>0.20</td>\n",
       "      <td>1.24</td>\n",
       "      <td>16.484</td>\n",
       "      <td>17.415</td>\n",
       "      <td>18.040</td>\n",
       "      <td>828917.02</td>\n",
       "      <td>787177.84</td>\n",
       "      <td>784069.90</td>\n",
       "    </tr>\n",
       "    <tr>\n",
       "      <th>2018-06-25</th>\n",
       "      <td>16.64</td>\n",
       "      <td>16.65</td>\n",
       "      <td>16.16</td>\n",
       "      <td>16.15</td>\n",
       "      <td>640913.31</td>\n",
       "      <td>-0.38</td>\n",
       "      <td>-2.30</td>\n",
       "      <td>16.664</td>\n",
       "      <td>17.651</td>\n",
       "      <td>18.184</td>\n",
       "      <td>1011935.40</td>\n",
       "      <td>772000.41</td>\n",
       "      <td>781219.42</td>\n",
       "    </tr>\n",
       "  </tbody>\n",
       "</table>\n",
       "</div>"
      ],
      "text/plain": [
       "             open   high  close    low     volume  price_change  p_change  \\\n",
       "date                                                                        \n",
       "2018-06-29  16.18  16.63  16.57  16.15  764343.50          0.41      2.54   \n",
       "2018-06-28  15.96  16.62  16.17  15.96  867622.44          0.13      0.81   \n",
       "2018-06-27  16.26  16.37  16.05  15.90  611452.75         -0.31     -1.90   \n",
       "2018-06-26  15.98  16.43  16.36  15.90  689422.25          0.20      1.24   \n",
       "2018-06-25  16.64  16.65  16.16  16.15  640913.31         -0.38     -2.30   \n",
       "\n",
       "               ma5    ma10    ma20       v_ma5     v_ma10     v_ma20  \n",
       "date                                                                  \n",
       "2018-06-29  16.262  16.689  17.698   714750.85  865295.61  759318.50  \n",
       "2018-06-28  16.254  16.899  17.802   691815.84  836774.34  764707.70  \n",
       "2018-06-27  16.276  17.137  17.900   761214.67  795622.12  773550.92  \n",
       "2018-06-26  16.484  17.415  18.040   828917.02  787177.84  784069.90  \n",
       "2018-06-25  16.664  17.651  18.184  1011935.40  772000.41  781219.42  "
      ]
     },
     "execution_count": 51,
     "metadata": {},
     "output_type": "execute_result"
    }
   ],
   "source": [
    "res.head(5)"
   ]
  },
  {
   "cell_type": "code",
   "execution_count": 46,
   "metadata": {
    "collapsed": false
   },
   "outputs": [
    {
     "data": {
      "text/plain": [
       "[<matplotlib.lines.Line2D at 0x117838790>]"
      ]
     },
     "execution_count": 46,
     "metadata": {},
     "output_type": "execute_result"
    },
    {
     "data": {
      "image/png": "[encoded data removed]",
      "text/plain": [
       "<matplotlib.figure.Figure at 0x117813550>"
      ]
     },
     "metadata": {},
     "output_type": "display_data"
    }
   ],
   "source": [
    "plt.plot(res['close'])"
   ]
  },
  {
   "cell_type": "code",
   "execution_count": 48,
   "metadata": {
    "collapsed": false
   },
   "outputs": [
    {
     "data": {
      "text/plain": [
       "[<matplotlib.lines.Line2D at 0x1179f8fd0>]"
      ]
     },
     "execution_count": 48,
     "metadata": {},
     "output_type": "execute_result"
    },
    {
     "data": {
      "image/png": "[encoded data removed]",
      "text/plain": [
       "<matplotlib.figure.Figure at 0x1178f9a90>"
      ]
     },
     "metadata": {},
     "output_type": "display_data"
    }
   ],
   "source": [
    "plt.plot(res['volume'])"
   ]
  },
  {
   "cell_type": "code",
   "execution_count": 49,
   "metadata": {
    "collapsed": false
   },
   "outputs": [
    {
     "data": {
      "text/plain": [
       "Index([u'open', u'high', u'close', u'low', u'volume', u'amount'], dtype='object')"
      ]
     },
     "execution_count": 49,
     "metadata": {},
     "output_type": "execute_result"
    }
   ],
   "source": [
    "res.columns"
   ]
  }
 ],
 "metadata": {
  "anaconda-cloud": {},
  "kernelspec": {
   "display_name": "Python [conda root]",
   "language": "python",
   "name": "conda-root-py"
  },
  "language_info": {
   "codemirror_mode": {
    "name": "ipython",
    "version": 2
   },
   "file_extension": ".py",
   "mimetype": "text/x-python",
   "name": "python",
   "nbconvert_exporter": "python",
   "pygments_lexer": "ipython2",
   "version": "2.7.12"
  }
 },
 "nbformat": 4,
 "nbformat_minor": 1
}
